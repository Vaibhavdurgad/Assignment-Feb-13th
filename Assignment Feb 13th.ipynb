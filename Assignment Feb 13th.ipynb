{
 "cells": [
  {
   "cell_type": "markdown",
   "id": "3fc841c0-98e0-4792-99da-871abe9904a1",
   "metadata": {},
   "source": [
    "Q1. Explain why we have to use the Exception class while creating a Custom Exception."
   ]
  },
  {
   "cell_type": "markdown",
   "id": "459445a5-7eca-4f60-a5df-06b8c95006df",
   "metadata": {},
   "source": [
    "Ans:custom exceptions can help us improve this even more, especially when we are designing our package."
   ]
  },
  {
   "cell_type": "markdown",
   "id": "307004bf-ebc9-4446-9c18-7aee040cb91c",
   "metadata": {},
   "source": [
    "Q2. Write a python program to print Python Exception Hierarchy."
   ]
  },
  {
   "cell_type": "code",
   "execution_count": 27,
   "id": "4b4cd0d9-21ac-4dac-8290-e8fc6d81552b",
   "metadata": {},
   "outputs": [
    {
     "name": "stdout",
     "output_type": "stream",
     "text": [
      "division by zero\n"
     ]
    }
   ],
   "source": [
    "try:\n",
    "    10/0\n",
    "except ZeroDivisionError as e:\n",
    "    print(e)\n",
    "    "
   ]
  },
  {
   "cell_type": "markdown",
   "id": "db46173a-4483-48b1-be1a-11ed00b5ce6e",
   "metadata": {},
   "source": [
    "Q3. What errors are defined in the ArithmeticError class? Explain any two with an example."
   ]
  },
  {
   "cell_type": "markdown",
   "id": "7fad8700-2c72-427c-9aa8-2ea984be4cf6",
   "metadata": {},
   "source": [
    "Ans :Zerodivision Error and Floating point error."
   ]
  },
  {
   "cell_type": "code",
   "execution_count": 5,
   "id": "464fe9c8-2f11-41c5-9553-3b1e3e5bf2fc",
   "metadata": {},
   "outputs": [
    {
     "name": "stdout",
     "output_type": "stream",
     "text": [
      "division by zero\n"
     ]
    }
   ],
   "source": [
    "try:\n",
    "    10/0\n",
    "except ZeroDivisionError as e:\n",
    "    print(e)\n",
    "    "
   ]
  },
  {
   "cell_type": "code",
   "execution_count": 14,
   "id": "6e0b7a30-62c6-4dad-95a3-2b53fd26426c",
   "metadata": {},
   "outputs": [
    {
     "name": "stdout",
     "output_type": "stream",
     "text": [
      "unsupported operand type(s) for +: 'int' and 'str'\n"
     ]
    }
   ],
   "source": [
    "try:\n",
    "    123+\"sudh\"\n",
    "except TypeError as e:\n",
    "    print(e)  "
   ]
  },
  {
   "cell_type": "markdown",
   "id": "2cd34495-23b5-412f-9fde-8064a788f27b",
   "metadata": {},
   "source": [
    "Q4. Why LookupError class is used? Explain with an example KeyError and IndexError."
   ]
  },
  {
   "cell_type": "markdown",
   "id": "bf19eee2-ebe7-48d5-bd89-74a234d5e367",
   "metadata": {},
   "source": [
    "Ans : The LookupError exception in Python forms the base class for all exceptions that are raised when an index or a key is not found for a sequence or dictionary respectively."
   ]
  },
  {
   "cell_type": "code",
   "execution_count": 22,
   "id": "8d3a7423-5cb0-4f64-852b-d8c9167cff0e",
   "metadata": {},
   "outputs": [
    {
     "name": "stdout",
     "output_type": "stream",
     "text": [
      "'key1'\n"
     ]
    }
   ],
   "source": [
    "try:\n",
    "    d={'key':'Vaibhav',1:[2,3,4]}\n",
    "    print(d['key1'])\n",
    "except KeyError as e:\n",
    "    print(e)"
   ]
  },
  {
   "cell_type": "code",
   "execution_count": 23,
   "id": "7ab63ab8-1208-45eb-a305-30b487cd6451",
   "metadata": {},
   "outputs": [
    {
     "name": "stdout",
     "output_type": "stream",
     "text": [
      "list index out of range\n"
     ]
    }
   ],
   "source": [
    "try:\n",
    "    l=[1,2,3,4]\n",
    "    print(l[6])\n",
    "except IndexError as e:\n",
    "    print(e)"
   ]
  },
  {
   "cell_type": "markdown",
   "id": "db730d3e-0546-40bf-8a6d-467937503b90",
   "metadata": {},
   "source": [
    "Q5. Explain ImportError. What is ModuleNotFoundError?"
   ]
  },
  {
   "cell_type": "markdown",
   "id": "37e862d3-f7fc-47a3-ab50-4a8ebe28cff0",
   "metadata": {},
   "source": [
    "Ans:ImportError occurs when the Python program tries to import module which does not exist in the private table"
   ]
  },
  {
   "cell_type": "markdown",
   "id": "da4c5bba-132d-406a-89d8-f4b2192394d3",
   "metadata": {},
   "source": [
    " ModuleNotFoundError error occurs when you're trying to access or use a module that cannot be found. "
   ]
  },
  {
   "cell_type": "markdown",
   "id": "31e79e59-2cfe-4b13-8098-9401bd9593aa",
   "metadata": {},
   "source": [
    "Q6. List down some best practices for exception handling in python."
   ]
  },
  {
   "cell_type": "code",
   "execution_count": null,
   "id": "7db8a2d7-bf1b-47f3-9e56-a98fbcb47800",
   "metadata": {},
   "outputs": [],
   "source": [
    "Ans: 1.ArithmeticError"
   ]
  },
  {
   "cell_type": "code",
   "execution_count": 24,
   "id": "c0af4969-c45c-4791-a020-f9296403d1ad",
   "metadata": {},
   "outputs": [
    {
     "name": "stdout",
     "output_type": "stream",
     "text": [
      "Error: Denominator cannot be 0.\n",
      "This is finally block.\n"
     ]
    }
   ],
   "source": [
    "try:\n",
    "    numerator = 10\n",
    "    denominator = 0\n",
    "\n",
    "    result = numerator/denominator\n",
    "\n",
    "    print(result)\n",
    "except:\n",
    "    print(\"Error: Denominator cannot be 0.\")\n",
    "    \n",
    "finally:\n",
    "    print(\"This is finally block.\")"
   ]
  },
  {
   "cell_type": "code",
   "execution_count": 26,
   "id": "346f3076-b1d8-4ce9-9ef2-990a8673f2f9",
   "metadata": {},
   "outputs": [
    {
     "name": "stdin",
     "output_type": "stream",
     "text": [
      "Enter a number:  3\n"
     ]
    },
    {
     "name": "stdout",
     "output_type": "stream",
     "text": [
      "Not an even number!\n"
     ]
    }
   ],
   "source": [
    "# program to print the reciprocal of even numbers\n",
    "\n",
    "try:\n",
    "    num = int(input(\"Enter a number: \"))\n",
    "    assert num % 2 == 0\n",
    "except:\n",
    "    print(\"Not an even number!\")\n",
    "else:\n",
    "    reciprocal = 1/num\n",
    "    print(reciprocal)"
   ]
  },
  {
   "cell_type": "code",
   "execution_count": null,
   "id": "b120d5bb-071a-4543-9d33-98b084042f0a",
   "metadata": {},
   "outputs": [],
   "source": []
  }
 ],
 "metadata": {
  "kernelspec": {
   "display_name": "Python 3 (ipykernel)",
   "language": "python",
   "name": "python3"
  },
  "language_info": {
   "codemirror_mode": {
    "name": "ipython",
    "version": 3
   },
   "file_extension": ".py",
   "mimetype": "text/x-python",
   "name": "python",
   "nbconvert_exporter": "python",
   "pygments_lexer": "ipython3",
   "version": "3.10.8"
  }
 },
 "nbformat": 4,
 "nbformat_minor": 5
}
